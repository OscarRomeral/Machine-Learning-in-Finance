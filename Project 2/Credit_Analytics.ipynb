{
  "cells": [
    {
      "cell_type": "markdown",
      "metadata": {
        "id": "pVNblDBpVoAq"
      },
      "source": [
        "**Names of all group members:**\n",
        "\n",
        "\n",
        "---\n",
        "\n",
        "All code below is only suggestive and you may as well use different approaches."
      ]
    },
    {
      "cell_type": "markdown",
      "metadata": {
        "id": "k2X6saz9a9We"
      },
      "source": [
        "## Question 1"
      ]
    },
    {
      "cell_type": "markdown",
      "metadata": {
        "id": "1gceE8L_bgBY"
      },
      "source": [
        "First we create the data."
      ]
    },
    {
      "cell_type": "code",
      "execution_count": 1,
      "metadata": {
        "id": "K1qPukjnSRgc"
      },
      "outputs": [],
      "source": [
        "import numpy as np\n",
        "import matplotlib.pyplot as plt\n",
        "np.random.seed(213742069)  # for reproducibility\n",
        "# simulate explanatory variables x\n",
        "\n",
        "m, n = 20000, 10000\n",
        "total_samples = m + n\n",
        "\n",
        "x1 = np.random.uniform(18, 80, total_samples)\n",
        "x2 = np.random.uniform(1, 15, total_samples)\n",
        "x3 = np.random.choice([0, 1], total_samples, p=[0.9, 0.1])\n",
        "\n",
        "# Combine the simulated vectors into an array\n",
        "x_total = np.column_stack((x1, x2, x3))"
      ]
    },
    {
      "cell_type": "markdown",
      "metadata": {
        "id": "GR0UIGaCa9Wf"
      },
      "source": [
        "# a)"
      ]
    },
    {
      "cell_type": "code",
      "execution_count": 2,
      "metadata": {
        "colab": {
          "base_uri": "https://localhost:8080/"
        },
        "id": "egDUPrxsa9Wf",
        "outputId": "83045d90-5fc5-4deb-fa9f-dd79420d7bad"
      },
      "outputs": [
        {
          "output_type": "stream",
          "name": "stdout",
          "text": [
            "Mean and standard deviation of x1: 48.9364, 17.9877\n",
            "Mean and standard deviation of x2: 8.0028, 4.0340\n",
            "Mean and standard deviation of x3: 0.0970, 0.2960\n"
          ]
        }
      ],
      "source": [
        "mean_x1 = np.mean(x_total[:m, 0])\n",
        "std_x1 = np.std(x_total[:m, 0])\n",
        "\n",
        "mean_x2 = np.mean(x_total[:m, 1])\n",
        "std_x2 = np.std(x_total[:m, 1])\n",
        "\n",
        "mean_x3 = np.mean(x_total[:m, 2])\n",
        "std_x3 = np.std(x_total[:m, 2])\n",
        "\n",
        "print(f'Mean and standard deviation of x1: {mean_x1:.4f}, {std_x1:.4f}')\n",
        "print(f'Mean and standard deviation of x2: {mean_x2:.4f}, {std_x2:.4f}')\n",
        "print(f'Mean and standard deviation of x3: {mean_x3:.4f}, {std_x3:.4f}')"
      ]
    },
    {
      "cell_type": "markdown",
      "metadata": {
        "id": "wOTvIv9Ja9Wg"
      },
      "source": [
        "## b)"
      ]
    },
    {
      "cell_type": "markdown",
      "metadata": {
        "id": "skU7RXmCa9Wg"
      },
      "source": [
        "Credit History; Debt/Income; Geography; Size of loan requested; Gender; Race; Country of origin; Single/Maried/Divorced; Number of children; History of defaults"
      ]
    },
    {
      "cell_type": "markdown",
      "metadata": {
        "id": "EL-nUAA0a9Wg"
      },
      "source": [
        "## Question 2"
      ]
    },
    {
      "cell_type": "code",
      "execution_count": 3,
      "metadata": {
        "id": "RhR3TshATJOo"
      },
      "outputs": [],
      "source": [
        "# Building the datasets:\n",
        "\n",
        "ksi = np.random.uniform(0,1, total_samples)\n",
        "\n",
        "sigmoid = lambda x: 1. / (1. + np.exp(-x))\n",
        "\n",
        "is_x1_smaller_than25 = [1 if x1[i] <25 else 0 for i in range(total_samples)]\n",
        "is_x1_bigger_than75 = [1 if x1[i] >75 else 0 for i in range(total_samples)]\n",
        "\n",
        "p1 = [sigmoid(13.3 - 0.33*x1[i]+3.5*x2[i]-3*x3[i]) for i in range(total_samples)]\n",
        "p2 = [sigmoid(5-10*(is_x1_smaller_than25[i]+is_x1_bigger_than75[i])+1.1*x2[i]-x3[i]) for i in range(total_samples)]\n",
        "\n",
        "# build the first dataset\n",
        "\n",
        "y1 = [1 if ksi[i] < p1[i] else 0 for i in range(total_samples)]\n",
        "\n",
        "# build the second dataset\n",
        "\n",
        "y2 = [1 if ksi[i] < p2[i] else 0 for i in range(total_samples)]"
      ]
    },
    {
      "cell_type": "markdown",
      "metadata": {
        "id": "QTnwTsiYG64I"
      },
      "source": [
        "## a)"
      ]
    },
    {
      "cell_type": "code",
      "execution_count": 4,
      "metadata": {
        "colab": {
          "base_uri": "https://localhost:8080/"
        },
        "id": "Rz30ywUHUOSG",
        "outputId": "85fbe03f-5692-4fd4-86f3-17144b1391f5"
      },
      "outputs": [
        {
          "output_type": "stream",
          "name": "stdout",
          "text": [
            "Cross-entropy loss for model 1 on train data: 0.03462670862287481\n",
            "Cross-entropy loss for model 1 on test data: 0.034726280704432365\n",
            "Cross-entropy loss for model 2 on train data: 0.15234436499937082\n",
            "Cross-entropy loss for model 2 on test data: 0.15449337425919724\n"
          ]
        }
      ],
      "source": [
        "from sklearn.linear_model import LogisticRegression\n",
        "from sklearn.metrics import log_loss\n",
        "\n",
        "x_train = x_total[:m]\n",
        "y1_train = y1[:m]\n",
        "y2_train = y2[:m]\n",
        "x_test = x_total[m:]\n",
        "y1_test = y1[m:]\n",
        "y2_test = y2[m:]\n",
        "\n",
        "# \"model = LogisticRegression().fit(X_data, Y_data)\" fits a model\n",
        "# \"pred_X = model.predict_proba(X)\" evaluates the model\n",
        "# (note that it outputs both P(Y=0|X) and P(Y=1|X))\n",
        "# \"log_loss(Y, pred_X)\" evaluates the negative conditional log likelihood (also called cross-entropy loss)\n",
        "\n",
        "# Fit the models on both datasets\n",
        "\n",
        "model1 = LogisticRegression().fit(x_train, y1_train)\n",
        "model2 = LogisticRegression().fit(x_train, y2_train)\n",
        "\n",
        "# Calculate cross-entropy loss on both datasets for train and test\n",
        "\n",
        "cross_entropy_loss1_train = log_loss(y1_train, model1.predict_proba(x_train))\n",
        "cross_entropy_loss1_test = log_loss(y1_test, model1.predict_proba(x_test))\n",
        "cross_entropy_loss2_train = log_loss(y2_train, model2.predict_proba(x_train))\n",
        "cross_entropy_loss2_test = log_loss(y2_test, model2.predict_proba(x_test))\n",
        "\n",
        "print(\"Cross-entropy loss for model 1 on train data:\", cross_entropy_loss1_train)\n",
        "print(\"Cross-entropy loss for model 1 on test data:\", cross_entropy_loss1_test)\n",
        "print(\"Cross-entropy loss for model 2 on train data:\", cross_entropy_loss2_train)\n",
        "print(\"Cross-entropy loss for model 2 on test data:\", cross_entropy_loss2_test)\n"
      ]
    },
    {
      "cell_type": "markdown",
      "metadata": {
        "id": "INXM_qg0G64J"
      },
      "source": [
        "## b)"
      ]
    },
    {
      "cell_type": "code",
      "execution_count": 5,
      "metadata": {
        "id": "ZJawLeRKWIQJ"
      },
      "outputs": [],
      "source": [
        "# Calculate normalized data\n",
        "\n",
        "std_x1_train = np.std(x_train[:, 0])\n",
        "std_x2_train = np.std(x_train[:, 1])\n",
        "std_x3_train = np.std(x_train[:, 2])\n",
        "\n",
        "normalised_x_train = x_train/[std_x1_train, std_x2_train, std_x3_train]\n",
        "\n",
        "std_x1_test = np.std(x_test[:, 0])\n",
        "std_x2_test = np.std(x_test[:, 1])\n",
        "std_x3_test = np.std(x_test[:, 2])\n",
        "\n",
        "normalised_x_test = x_test/[std_x1_test, std_x2_test, std_x3_test]"
      ]
    },
    {
      "cell_type": "code",
      "execution_count": 6,
      "metadata": {
        "colab": {
          "base_uri": "https://localhost:8080/",
          "height": 80
        },
        "id": "QaQx76yCWOa3",
        "outputId": "90eed094-4798-41d1-bb6f-f29b29e1c9f5"
      },
      "outputs": [
        {
          "output_type": "execute_result",
          "data": {
            "text/plain": [
              "SVC(gamma=0.1, probability=True)"
            ],
            "text/html": [
              "<style>#sk-container-id-1 {\n",
              "  /* Definition of color scheme common for light and dark mode */\n",
              "  --sklearn-color-text: black;\n",
              "  --sklearn-color-line: gray;\n",
              "  /* Definition of color scheme for unfitted estimators */\n",
              "  --sklearn-color-unfitted-level-0: #fff5e6;\n",
              "  --sklearn-color-unfitted-level-1: #f6e4d2;\n",
              "  --sklearn-color-unfitted-level-2: #ffe0b3;\n",
              "  --sklearn-color-unfitted-level-3: chocolate;\n",
              "  /* Definition of color scheme for fitted estimators */\n",
              "  --sklearn-color-fitted-level-0: #f0f8ff;\n",
              "  --sklearn-color-fitted-level-1: #d4ebff;\n",
              "  --sklearn-color-fitted-level-2: #b3dbfd;\n",
              "  --sklearn-color-fitted-level-3: cornflowerblue;\n",
              "\n",
              "  /* Specific color for light theme */\n",
              "  --sklearn-color-text-on-default-background: var(--sg-text-color, var(--theme-code-foreground, var(--jp-content-font-color1, black)));\n",
              "  --sklearn-color-background: var(--sg-background-color, var(--theme-background, var(--jp-layout-color0, white)));\n",
              "  --sklearn-color-border-box: var(--sg-text-color, var(--theme-code-foreground, var(--jp-content-font-color1, black)));\n",
              "  --sklearn-color-icon: #696969;\n",
              "\n",
              "  @media (prefers-color-scheme: dark) {\n",
              "    /* Redefinition of color scheme for dark theme */\n",
              "    --sklearn-color-text-on-default-background: var(--sg-text-color, var(--theme-code-foreground, var(--jp-content-font-color1, white)));\n",
              "    --sklearn-color-background: var(--sg-background-color, var(--theme-background, var(--jp-layout-color0, #111)));\n",
              "    --sklearn-color-border-box: var(--sg-text-color, var(--theme-code-foreground, var(--jp-content-font-color1, white)));\n",
              "    --sklearn-color-icon: #878787;\n",
              "  }\n",
              "}\n",
              "\n",
              "#sk-container-id-1 {\n",
              "  color: var(--sklearn-color-text);\n",
              "}\n",
              "\n",
              "#sk-container-id-1 pre {\n",
              "  padding: 0;\n",
              "}\n",
              "\n",
              "#sk-container-id-1 input.sk-hidden--visually {\n",
              "  border: 0;\n",
              "  clip: rect(1px 1px 1px 1px);\n",
              "  clip: rect(1px, 1px, 1px, 1px);\n",
              "  height: 1px;\n",
              "  margin: -1px;\n",
              "  overflow: hidden;\n",
              "  padding: 0;\n",
              "  position: absolute;\n",
              "  width: 1px;\n",
              "}\n",
              "\n",
              "#sk-container-id-1 div.sk-dashed-wrapped {\n",
              "  border: 1px dashed var(--sklearn-color-line);\n",
              "  margin: 0 0.4em 0.5em 0.4em;\n",
              "  box-sizing: border-box;\n",
              "  padding-bottom: 0.4em;\n",
              "  background-color: var(--sklearn-color-background);\n",
              "}\n",
              "\n",
              "#sk-container-id-1 div.sk-container {\n",
              "  /* jupyter's `normalize.less` sets `[hidden] { display: none; }`\n",
              "     but bootstrap.min.css set `[hidden] { display: none !important; }`\n",
              "     so we also need the `!important` here to be able to override the\n",
              "     default hidden behavior on the sphinx rendered scikit-learn.org.\n",
              "     See: https://github.com/scikit-learn/scikit-learn/issues/21755 */\n",
              "  display: inline-block !important;\n",
              "  position: relative;\n",
              "}\n",
              "\n",
              "#sk-container-id-1 div.sk-text-repr-fallback {\n",
              "  display: none;\n",
              "}\n",
              "\n",
              "div.sk-parallel-item,\n",
              "div.sk-serial,\n",
              "div.sk-item {\n",
              "  /* draw centered vertical line to link estimators */\n",
              "  background-image: linear-gradient(var(--sklearn-color-text-on-default-background), var(--sklearn-color-text-on-default-background));\n",
              "  background-size: 2px 100%;\n",
              "  background-repeat: no-repeat;\n",
              "  background-position: center center;\n",
              "}\n",
              "\n",
              "/* Parallel-specific style estimator block */\n",
              "\n",
              "#sk-container-id-1 div.sk-parallel-item::after {\n",
              "  content: \"\";\n",
              "  width: 100%;\n",
              "  border-bottom: 2px solid var(--sklearn-color-text-on-default-background);\n",
              "  flex-grow: 1;\n",
              "}\n",
              "\n",
              "#sk-container-id-1 div.sk-parallel {\n",
              "  display: flex;\n",
              "  align-items: stretch;\n",
              "  justify-content: center;\n",
              "  background-color: var(--sklearn-color-background);\n",
              "  position: relative;\n",
              "}\n",
              "\n",
              "#sk-container-id-1 div.sk-parallel-item {\n",
              "  display: flex;\n",
              "  flex-direction: column;\n",
              "}\n",
              "\n",
              "#sk-container-id-1 div.sk-parallel-item:first-child::after {\n",
              "  align-self: flex-end;\n",
              "  width: 50%;\n",
              "}\n",
              "\n",
              "#sk-container-id-1 div.sk-parallel-item:last-child::after {\n",
              "  align-self: flex-start;\n",
              "  width: 50%;\n",
              "}\n",
              "\n",
              "#sk-container-id-1 div.sk-parallel-item:only-child::after {\n",
              "  width: 0;\n",
              "}\n",
              "\n",
              "/* Serial-specific style estimator block */\n",
              "\n",
              "#sk-container-id-1 div.sk-serial {\n",
              "  display: flex;\n",
              "  flex-direction: column;\n",
              "  align-items: center;\n",
              "  background-color: var(--sklearn-color-background);\n",
              "  padding-right: 1em;\n",
              "  padding-left: 1em;\n",
              "}\n",
              "\n",
              "\n",
              "/* Toggleable style: style used for estimator/Pipeline/ColumnTransformer box that is\n",
              "clickable and can be expanded/collapsed.\n",
              "- Pipeline and ColumnTransformer use this feature and define the default style\n",
              "- Estimators will overwrite some part of the style using the `sk-estimator` class\n",
              "*/\n",
              "\n",
              "/* Pipeline and ColumnTransformer style (default) */\n",
              "\n",
              "#sk-container-id-1 div.sk-toggleable {\n",
              "  /* Default theme specific background. It is overwritten whether we have a\n",
              "  specific estimator or a Pipeline/ColumnTransformer */\n",
              "  background-color: var(--sklearn-color-background);\n",
              "}\n",
              "\n",
              "/* Toggleable label */\n",
              "#sk-container-id-1 label.sk-toggleable__label {\n",
              "  cursor: pointer;\n",
              "  display: block;\n",
              "  width: 100%;\n",
              "  margin-bottom: 0;\n",
              "  padding: 0.5em;\n",
              "  box-sizing: border-box;\n",
              "  text-align: center;\n",
              "}\n",
              "\n",
              "#sk-container-id-1 label.sk-toggleable__label-arrow:before {\n",
              "  /* Arrow on the left of the label */\n",
              "  content: \"▸\";\n",
              "  float: left;\n",
              "  margin-right: 0.25em;\n",
              "  color: var(--sklearn-color-icon);\n",
              "}\n",
              "\n",
              "#sk-container-id-1 label.sk-toggleable__label-arrow:hover:before {\n",
              "  color: var(--sklearn-color-text);\n",
              "}\n",
              "\n",
              "/* Toggleable content - dropdown */\n",
              "\n",
              "#sk-container-id-1 div.sk-toggleable__content {\n",
              "  max-height: 0;\n",
              "  max-width: 0;\n",
              "  overflow: hidden;\n",
              "  text-align: left;\n",
              "  /* unfitted */\n",
              "  background-color: var(--sklearn-color-unfitted-level-0);\n",
              "}\n",
              "\n",
              "#sk-container-id-1 div.sk-toggleable__content.fitted {\n",
              "  /* fitted */\n",
              "  background-color: var(--sklearn-color-fitted-level-0);\n",
              "}\n",
              "\n",
              "#sk-container-id-1 div.sk-toggleable__content pre {\n",
              "  margin: 0.2em;\n",
              "  border-radius: 0.25em;\n",
              "  color: var(--sklearn-color-text);\n",
              "  /* unfitted */\n",
              "  background-color: var(--sklearn-color-unfitted-level-0);\n",
              "}\n",
              "\n",
              "#sk-container-id-1 div.sk-toggleable__content.fitted pre {\n",
              "  /* unfitted */\n",
              "  background-color: var(--sklearn-color-fitted-level-0);\n",
              "}\n",
              "\n",
              "#sk-container-id-1 input.sk-toggleable__control:checked~div.sk-toggleable__content {\n",
              "  /* Expand drop-down */\n",
              "  max-height: 200px;\n",
              "  max-width: 100%;\n",
              "  overflow: auto;\n",
              "}\n",
              "\n",
              "#sk-container-id-1 input.sk-toggleable__control:checked~label.sk-toggleable__label-arrow:before {\n",
              "  content: \"▾\";\n",
              "}\n",
              "\n",
              "/* Pipeline/ColumnTransformer-specific style */\n",
              "\n",
              "#sk-container-id-1 div.sk-label input.sk-toggleable__control:checked~label.sk-toggleable__label {\n",
              "  color: var(--sklearn-color-text);\n",
              "  background-color: var(--sklearn-color-unfitted-level-2);\n",
              "}\n",
              "\n",
              "#sk-container-id-1 div.sk-label.fitted input.sk-toggleable__control:checked~label.sk-toggleable__label {\n",
              "  background-color: var(--sklearn-color-fitted-level-2);\n",
              "}\n",
              "\n",
              "/* Estimator-specific style */\n",
              "\n",
              "/* Colorize estimator box */\n",
              "#sk-container-id-1 div.sk-estimator input.sk-toggleable__control:checked~label.sk-toggleable__label {\n",
              "  /* unfitted */\n",
              "  background-color: var(--sklearn-color-unfitted-level-2);\n",
              "}\n",
              "\n",
              "#sk-container-id-1 div.sk-estimator.fitted input.sk-toggleable__control:checked~label.sk-toggleable__label {\n",
              "  /* fitted */\n",
              "  background-color: var(--sklearn-color-fitted-level-2);\n",
              "}\n",
              "\n",
              "#sk-container-id-1 div.sk-label label.sk-toggleable__label,\n",
              "#sk-container-id-1 div.sk-label label {\n",
              "  /* The background is the default theme color */\n",
              "  color: var(--sklearn-color-text-on-default-background);\n",
              "}\n",
              "\n",
              "/* On hover, darken the color of the background */\n",
              "#sk-container-id-1 div.sk-label:hover label.sk-toggleable__label {\n",
              "  color: var(--sklearn-color-text);\n",
              "  background-color: var(--sklearn-color-unfitted-level-2);\n",
              "}\n",
              "\n",
              "/* Label box, darken color on hover, fitted */\n",
              "#sk-container-id-1 div.sk-label.fitted:hover label.sk-toggleable__label.fitted {\n",
              "  color: var(--sklearn-color-text);\n",
              "  background-color: var(--sklearn-color-fitted-level-2);\n",
              "}\n",
              "\n",
              "/* Estimator label */\n",
              "\n",
              "#sk-container-id-1 div.sk-label label {\n",
              "  font-family: monospace;\n",
              "  font-weight: bold;\n",
              "  display: inline-block;\n",
              "  line-height: 1.2em;\n",
              "}\n",
              "\n",
              "#sk-container-id-1 div.sk-label-container {\n",
              "  text-align: center;\n",
              "}\n",
              "\n",
              "/* Estimator-specific */\n",
              "#sk-container-id-1 div.sk-estimator {\n",
              "  font-family: monospace;\n",
              "  border: 1px dotted var(--sklearn-color-border-box);\n",
              "  border-radius: 0.25em;\n",
              "  box-sizing: border-box;\n",
              "  margin-bottom: 0.5em;\n",
              "  /* unfitted */\n",
              "  background-color: var(--sklearn-color-unfitted-level-0);\n",
              "}\n",
              "\n",
              "#sk-container-id-1 div.sk-estimator.fitted {\n",
              "  /* fitted */\n",
              "  background-color: var(--sklearn-color-fitted-level-0);\n",
              "}\n",
              "\n",
              "/* on hover */\n",
              "#sk-container-id-1 div.sk-estimator:hover {\n",
              "  /* unfitted */\n",
              "  background-color: var(--sklearn-color-unfitted-level-2);\n",
              "}\n",
              "\n",
              "#sk-container-id-1 div.sk-estimator.fitted:hover {\n",
              "  /* fitted */\n",
              "  background-color: var(--sklearn-color-fitted-level-2);\n",
              "}\n",
              "\n",
              "/* Specification for estimator info (e.g. \"i\" and \"?\") */\n",
              "\n",
              "/* Common style for \"i\" and \"?\" */\n",
              "\n",
              ".sk-estimator-doc-link,\n",
              "a:link.sk-estimator-doc-link,\n",
              "a:visited.sk-estimator-doc-link {\n",
              "  float: right;\n",
              "  font-size: smaller;\n",
              "  line-height: 1em;\n",
              "  font-family: monospace;\n",
              "  background-color: var(--sklearn-color-background);\n",
              "  border-radius: 1em;\n",
              "  height: 1em;\n",
              "  width: 1em;\n",
              "  text-decoration: none !important;\n",
              "  margin-left: 1ex;\n",
              "  /* unfitted */\n",
              "  border: var(--sklearn-color-unfitted-level-1) 1pt solid;\n",
              "  color: var(--sklearn-color-unfitted-level-1);\n",
              "}\n",
              "\n",
              ".sk-estimator-doc-link.fitted,\n",
              "a:link.sk-estimator-doc-link.fitted,\n",
              "a:visited.sk-estimator-doc-link.fitted {\n",
              "  /* fitted */\n",
              "  border: var(--sklearn-color-fitted-level-1) 1pt solid;\n",
              "  color: var(--sklearn-color-fitted-level-1);\n",
              "}\n",
              "\n",
              "/* On hover */\n",
              "div.sk-estimator:hover .sk-estimator-doc-link:hover,\n",
              ".sk-estimator-doc-link:hover,\n",
              "div.sk-label-container:hover .sk-estimator-doc-link:hover,\n",
              ".sk-estimator-doc-link:hover {\n",
              "  /* unfitted */\n",
              "  background-color: var(--sklearn-color-unfitted-level-3);\n",
              "  color: var(--sklearn-color-background);\n",
              "  text-decoration: none;\n",
              "}\n",
              "\n",
              "div.sk-estimator.fitted:hover .sk-estimator-doc-link.fitted:hover,\n",
              ".sk-estimator-doc-link.fitted:hover,\n",
              "div.sk-label-container:hover .sk-estimator-doc-link.fitted:hover,\n",
              ".sk-estimator-doc-link.fitted:hover {\n",
              "  /* fitted */\n",
              "  background-color: var(--sklearn-color-fitted-level-3);\n",
              "  color: var(--sklearn-color-background);\n",
              "  text-decoration: none;\n",
              "}\n",
              "\n",
              "/* Span, style for the box shown on hovering the info icon */\n",
              ".sk-estimator-doc-link span {\n",
              "  display: none;\n",
              "  z-index: 9999;\n",
              "  position: relative;\n",
              "  font-weight: normal;\n",
              "  right: .2ex;\n",
              "  padding: .5ex;\n",
              "  margin: .5ex;\n",
              "  width: min-content;\n",
              "  min-width: 20ex;\n",
              "  max-width: 50ex;\n",
              "  color: var(--sklearn-color-text);\n",
              "  box-shadow: 2pt 2pt 4pt #999;\n",
              "  /* unfitted */\n",
              "  background: var(--sklearn-color-unfitted-level-0);\n",
              "  border: .5pt solid var(--sklearn-color-unfitted-level-3);\n",
              "}\n",
              "\n",
              ".sk-estimator-doc-link.fitted span {\n",
              "  /* fitted */\n",
              "  background: var(--sklearn-color-fitted-level-0);\n",
              "  border: var(--sklearn-color-fitted-level-3);\n",
              "}\n",
              "\n",
              ".sk-estimator-doc-link:hover span {\n",
              "  display: block;\n",
              "}\n",
              "\n",
              "/* \"?\"-specific style due to the `<a>` HTML tag */\n",
              "\n",
              "#sk-container-id-1 a.estimator_doc_link {\n",
              "  float: right;\n",
              "  font-size: 1rem;\n",
              "  line-height: 1em;\n",
              "  font-family: monospace;\n",
              "  background-color: var(--sklearn-color-background);\n",
              "  border-radius: 1rem;\n",
              "  height: 1rem;\n",
              "  width: 1rem;\n",
              "  text-decoration: none;\n",
              "  /* unfitted */\n",
              "  color: var(--sklearn-color-unfitted-level-1);\n",
              "  border: var(--sklearn-color-unfitted-level-1) 1pt solid;\n",
              "}\n",
              "\n",
              "#sk-container-id-1 a.estimator_doc_link.fitted {\n",
              "  /* fitted */\n",
              "  border: var(--sklearn-color-fitted-level-1) 1pt solid;\n",
              "  color: var(--sklearn-color-fitted-level-1);\n",
              "}\n",
              "\n",
              "/* On hover */\n",
              "#sk-container-id-1 a.estimator_doc_link:hover {\n",
              "  /* unfitted */\n",
              "  background-color: var(--sklearn-color-unfitted-level-3);\n",
              "  color: var(--sklearn-color-background);\n",
              "  text-decoration: none;\n",
              "}\n",
              "\n",
              "#sk-container-id-1 a.estimator_doc_link.fitted:hover {\n",
              "  /* fitted */\n",
              "  background-color: var(--sklearn-color-fitted-level-3);\n",
              "}\n",
              "</style><div id=\"sk-container-id-1\" class=\"sk-top-container\"><div class=\"sk-text-repr-fallback\"><pre>SVC(gamma=0.1, probability=True)</pre><b>In a Jupyter environment, please rerun this cell to show the HTML representation or trust the notebook. <br />On GitHub, the HTML representation is unable to render, please try loading this page with nbviewer.org.</b></div><div class=\"sk-container\" hidden><div class=\"sk-item\"><div class=\"sk-estimator fitted sk-toggleable\"><input class=\"sk-toggleable__control sk-hidden--visually\" id=\"sk-estimator-id-1\" type=\"checkbox\" checked><label for=\"sk-estimator-id-1\" class=\"sk-toggleable__label fitted sk-toggleable__label-arrow fitted\">&nbsp;&nbsp;SVC<a class=\"sk-estimator-doc-link fitted\" rel=\"noreferrer\" target=\"_blank\" href=\"https://scikit-learn.org/1.5/modules/generated/sklearn.svm.SVC.html\">?<span>Documentation for SVC</span></a><span class=\"sk-estimator-doc-link fitted\">i<span>Fitted</span></span></label><div class=\"sk-toggleable__content fitted\"><pre>SVC(gamma=0.1, probability=True)</pre></div> </div></div></div></div>"
            ]
          },
          "metadata": {},
          "execution_count": 6
        }
      ],
      "source": [
        "# Exercise 2.b) (i) and (ii)\n",
        "from sklearn.svm import SVC\n",
        "\n",
        "regularization_param = 5/(2*m)\n",
        "\n",
        "C = 1/(2*regularization_param*m)\n",
        "\n",
        "# \"model = SVC(kernel='rbf', gamma=GAMMA, C=C, probability=True)\" creates\n",
        "# a model with kernel exp(-GAMMA \\|x-x'\\|_2^2) and regul. parameter C (note the relation between C and the parameter lambda from the lecture).\n",
        "# \"probability=True\" enables the option \"model.predict_proba(X)\" to predict probabilities from the regression function \\hat{f}^{svm}.\n",
        "# \"model.fit(X, Y)\" optimizes the model parameters (using hinge loss)\n",
        "\n",
        "# Fit the models for both datasets (this can take up to 60 seconds with SVC)\n",
        "\n",
        "# Fit the SVM model for the first dataset\n",
        "model1_svm = SVC(kernel='rbf', gamma=1/10, C=C, probability=True)\n",
        "model1_svm.fit(normalised_x_train, y1_train)\n",
        "\n",
        "# Fit the SVM model for the second dataset\n",
        "model2_svm = SVC(kernel='rbf', gamma=1/10, probability=True)\n",
        "model2_svm.fit(normalised_x_train, y2_train)\n"
      ]
    },
    {
      "cell_type": "code",
      "execution_count": 7,
      "metadata": {
        "colab": {
          "base_uri": "https://localhost:8080/"
        },
        "id": "mS2tjfLdYO4Z",
        "outputId": "4e83af7b-9cc2-4399-d6b4-bd495d1dd61c"
      },
      "outputs": [
        {
          "output_type": "stream",
          "name": "stdout",
          "text": [
            "Cross-entropy loss for model svm 1 on train data: 0.03639144149632966\n",
            "Cross-entropy loss for model svm 1 on test data: 0.036416976258296256\n",
            "Cross-entropy loss for model svm 2 on train data: 0.0630466358997246\n",
            "Cross-entropy loss for model svm 2 on test data: 0.06460289444721143\n"
          ]
        }
      ],
      "source": [
        "# Exercise 2.b (iii)\n",
        "# \"model.predict_proba(X)\" predicts probabilities from features (note that it outputs both P(Y=0|X) and P(Y=1|X))\n",
        "\n",
        "# Calculate cross-entropy loss on both datasets for train and test\n",
        "\n",
        "cross_entropy_loss_svm1_train = log_loss(y1_train, model1_svm.predict_proba(normalised_x_train))\n",
        "cross_entropy_loss_svm1_test = log_loss(y1_test, model1_svm.predict_proba(normalised_x_test))\n",
        "cross_entropy_loss_svm2_train = log_loss(y2_train, model2_svm.predict_proba(normalised_x_train))\n",
        "cross_entropy_loss_svm2_test = log_loss(y2_test, model2_svm.predict_proba(normalised_x_test))\n",
        "\n",
        "print(\"Cross-entropy loss for model svm 1 on train data:\", cross_entropy_loss_svm1_train)\n",
        "print(\"Cross-entropy loss for model svm 1 on test data:\", cross_entropy_loss_svm1_test)\n",
        "print(\"Cross-entropy loss for model svm 2 on train data:\", cross_entropy_loss_svm2_train)\n",
        "print(\"Cross-entropy loss for model svm 2 on test data:\", cross_entropy_loss_svm2_test)\n"
      ]
    },
    {
      "cell_type": "markdown",
      "metadata": {
        "id": "IXU5Dt_CG64J"
      },
      "source": [
        "## c)"
      ]
    },
    {
      "cell_type": "code",
      "execution_count": 8,
      "metadata": {
        "colab": {
          "base_uri": "https://localhost:8080/",
          "height": 373
        },
        "id": "7xTDD8SNZhZz",
        "outputId": "b4db354d-0339-48d2-f335-f971db424473"
      },
      "outputs": [
        {
          "output_type": "error",
          "ename": "KeyboardInterrupt",
          "evalue": "",
          "traceback": [
            "\u001b[0;31m---------------------------------------------------------------------------\u001b[0m",
            "\u001b[0;31mKeyboardInterrupt\u001b[0m                         Traceback (most recent call last)",
            "\u001b[0;32m<ipython-input-8-c35f8dae0825>\u001b[0m in \u001b[0;36m<cell line: 30>\u001b[0;34m()\u001b[0m\n\u001b[1;32m     28\u001b[0m \u001b[0mTPR_log2\u001b[0m \u001b[0;34m=\u001b[0m \u001b[0;34m[\u001b[0m\u001b[0mTruePositiveRate\u001b[0m\u001b[0;34m(\u001b[0m\u001b[0mmodel2\u001b[0m\u001b[0;34m,\u001b[0m \u001b[0mx_test\u001b[0m\u001b[0;34m,\u001b[0m \u001b[0my2_test\u001b[0m\u001b[0;34m,\u001b[0m \u001b[0mths\u001b[0m\u001b[0;34m[\u001b[0m\u001b[0mi\u001b[0m\u001b[0;34m]\u001b[0m\u001b[0;34m)\u001b[0m \u001b[0;32mfor\u001b[0m \u001b[0mi\u001b[0m \u001b[0;32min\u001b[0m \u001b[0mrange\u001b[0m\u001b[0;34m(\u001b[0m\u001b[0mlen\u001b[0m\u001b[0;34m(\u001b[0m\u001b[0mths\u001b[0m\u001b[0;34m)\u001b[0m\u001b[0;34m)\u001b[0m\u001b[0;34m]\u001b[0m\u001b[0;34m\u001b[0m\u001b[0;34m\u001b[0m\u001b[0m\n\u001b[1;32m     29\u001b[0m \u001b[0;34m\u001b[0m\u001b[0m\n\u001b[0;32m---> 30\u001b[0;31m \u001b[0mFDR_svm1\u001b[0m \u001b[0;34m=\u001b[0m \u001b[0;34m[\u001b[0m\u001b[0mFalseDiscoveryRate\u001b[0m\u001b[0;34m(\u001b[0m\u001b[0mmodel1_svm\u001b[0m\u001b[0;34m,\u001b[0m \u001b[0mnormalised_x_test\u001b[0m\u001b[0;34m,\u001b[0m \u001b[0my1_test\u001b[0m\u001b[0;34m,\u001b[0m \u001b[0mths\u001b[0m\u001b[0;34m[\u001b[0m\u001b[0mi\u001b[0m\u001b[0;34m]\u001b[0m\u001b[0;34m)\u001b[0m \u001b[0;32mfor\u001b[0m \u001b[0mi\u001b[0m \u001b[0;32min\u001b[0m \u001b[0mrange\u001b[0m\u001b[0;34m(\u001b[0m\u001b[0mlen\u001b[0m\u001b[0;34m(\u001b[0m\u001b[0mths\u001b[0m\u001b[0;34m)\u001b[0m\u001b[0;34m)\u001b[0m\u001b[0;34m]\u001b[0m\u001b[0;34m\u001b[0m\u001b[0;34m\u001b[0m\u001b[0m\n\u001b[0m\u001b[1;32m     31\u001b[0m \u001b[0mTPR_svm1\u001b[0m \u001b[0;34m=\u001b[0m \u001b[0;34m[\u001b[0m\u001b[0mTruePositiveRate\u001b[0m\u001b[0;34m(\u001b[0m\u001b[0mmodel1_svm\u001b[0m\u001b[0;34m,\u001b[0m \u001b[0mnormalised_x_test\u001b[0m\u001b[0;34m,\u001b[0m \u001b[0my1_test\u001b[0m\u001b[0;34m,\u001b[0m \u001b[0mths\u001b[0m\u001b[0;34m[\u001b[0m\u001b[0mi\u001b[0m\u001b[0;34m]\u001b[0m\u001b[0;34m)\u001b[0m \u001b[0;32mfor\u001b[0m \u001b[0mi\u001b[0m \u001b[0;32min\u001b[0m \u001b[0mrange\u001b[0m\u001b[0;34m(\u001b[0m\u001b[0mlen\u001b[0m\u001b[0;34m(\u001b[0m\u001b[0mths\u001b[0m\u001b[0;34m)\u001b[0m\u001b[0;34m)\u001b[0m\u001b[0;34m]\u001b[0m\u001b[0;34m\u001b[0m\u001b[0;34m\u001b[0m\u001b[0m\n\u001b[1;32m     32\u001b[0m \u001b[0;34m\u001b[0m\u001b[0m\n",
            "\u001b[0;32m<ipython-input-8-c35f8dae0825>\u001b[0m in \u001b[0;36m<listcomp>\u001b[0;34m(.0)\u001b[0m\n\u001b[1;32m     28\u001b[0m \u001b[0mTPR_log2\u001b[0m \u001b[0;34m=\u001b[0m \u001b[0;34m[\u001b[0m\u001b[0mTruePositiveRate\u001b[0m\u001b[0;34m(\u001b[0m\u001b[0mmodel2\u001b[0m\u001b[0;34m,\u001b[0m \u001b[0mx_test\u001b[0m\u001b[0;34m,\u001b[0m \u001b[0my2_test\u001b[0m\u001b[0;34m,\u001b[0m \u001b[0mths\u001b[0m\u001b[0;34m[\u001b[0m\u001b[0mi\u001b[0m\u001b[0;34m]\u001b[0m\u001b[0;34m)\u001b[0m \u001b[0;32mfor\u001b[0m \u001b[0mi\u001b[0m \u001b[0;32min\u001b[0m \u001b[0mrange\u001b[0m\u001b[0;34m(\u001b[0m\u001b[0mlen\u001b[0m\u001b[0;34m(\u001b[0m\u001b[0mths\u001b[0m\u001b[0;34m)\u001b[0m\u001b[0;34m)\u001b[0m\u001b[0;34m]\u001b[0m\u001b[0;34m\u001b[0m\u001b[0;34m\u001b[0m\u001b[0m\n\u001b[1;32m     29\u001b[0m \u001b[0;34m\u001b[0m\u001b[0m\n\u001b[0;32m---> 30\u001b[0;31m \u001b[0mFDR_svm1\u001b[0m \u001b[0;34m=\u001b[0m \u001b[0;34m[\u001b[0m\u001b[0mFalseDiscoveryRate\u001b[0m\u001b[0;34m(\u001b[0m\u001b[0mmodel1_svm\u001b[0m\u001b[0;34m,\u001b[0m \u001b[0mnormalised_x_test\u001b[0m\u001b[0;34m,\u001b[0m \u001b[0my1_test\u001b[0m\u001b[0;34m,\u001b[0m \u001b[0mths\u001b[0m\u001b[0;34m[\u001b[0m\u001b[0mi\u001b[0m\u001b[0;34m]\u001b[0m\u001b[0;34m)\u001b[0m \u001b[0;32mfor\u001b[0m \u001b[0mi\u001b[0m \u001b[0;32min\u001b[0m \u001b[0mrange\u001b[0m\u001b[0;34m(\u001b[0m\u001b[0mlen\u001b[0m\u001b[0;34m(\u001b[0m\u001b[0mths\u001b[0m\u001b[0;34m)\u001b[0m\u001b[0;34m)\u001b[0m\u001b[0;34m]\u001b[0m\u001b[0;34m\u001b[0m\u001b[0;34m\u001b[0m\u001b[0m\n\u001b[0m\u001b[1;32m     31\u001b[0m \u001b[0mTPR_svm1\u001b[0m \u001b[0;34m=\u001b[0m \u001b[0;34m[\u001b[0m\u001b[0mTruePositiveRate\u001b[0m\u001b[0;34m(\u001b[0m\u001b[0mmodel1_svm\u001b[0m\u001b[0;34m,\u001b[0m \u001b[0mnormalised_x_test\u001b[0m\u001b[0;34m,\u001b[0m \u001b[0my1_test\u001b[0m\u001b[0;34m,\u001b[0m \u001b[0mths\u001b[0m\u001b[0;34m[\u001b[0m\u001b[0mi\u001b[0m\u001b[0;34m]\u001b[0m\u001b[0;34m)\u001b[0m \u001b[0;32mfor\u001b[0m \u001b[0mi\u001b[0m \u001b[0;32min\u001b[0m \u001b[0mrange\u001b[0m\u001b[0;34m(\u001b[0m\u001b[0mlen\u001b[0m\u001b[0;34m(\u001b[0m\u001b[0mths\u001b[0m\u001b[0;34m)\u001b[0m\u001b[0;34m)\u001b[0m\u001b[0;34m]\u001b[0m\u001b[0;34m\u001b[0m\u001b[0;34m\u001b[0m\u001b[0m\n\u001b[1;32m     32\u001b[0m \u001b[0;34m\u001b[0m\u001b[0m\n",
            "\u001b[0;32m<ipython-input-8-c35f8dae0825>\u001b[0m in \u001b[0;36mFalseDiscoveryRate\u001b[0;34m(model, x_test, y_test, ths)\u001b[0m\n\u001b[1;32m      5\u001b[0m \u001b[0;32mdef\u001b[0m \u001b[0mFalseDiscoveryRate\u001b[0m\u001b[0;34m(\u001b[0m\u001b[0mmodel\u001b[0m\u001b[0;34m,\u001b[0m \u001b[0mx_test\u001b[0m\u001b[0;34m,\u001b[0m \u001b[0my_test\u001b[0m\u001b[0;34m,\u001b[0m \u001b[0mths\u001b[0m\u001b[0;34m)\u001b[0m\u001b[0;34m:\u001b[0m\u001b[0;34m\u001b[0m\u001b[0;34m\u001b[0m\u001b[0m\n\u001b[1;32m      6\u001b[0m \u001b[0;34m\u001b[0m\u001b[0m\n\u001b[0;32m----> 7\u001b[0;31m   \u001b[0my_predicted\u001b[0m \u001b[0;34m=\u001b[0m \u001b[0mmodel\u001b[0m\u001b[0;34m.\u001b[0m\u001b[0mpredict_proba\u001b[0m\u001b[0;34m(\u001b[0m\u001b[0mx_test\u001b[0m\u001b[0;34m)\u001b[0m\u001b[0;34m\u001b[0m\u001b[0;34m\u001b[0m\u001b[0m\n\u001b[0m\u001b[1;32m      8\u001b[0m   \u001b[0my_binary_predicted\u001b[0m \u001b[0;34m=\u001b[0m \u001b[0;34m[\u001b[0m\u001b[0;36m1\u001b[0m \u001b[0;32mif\u001b[0m \u001b[0my_predicted\u001b[0m\u001b[0;34m[\u001b[0m\u001b[0mi\u001b[0m\u001b[0;34m]\u001b[0m\u001b[0;34m[\u001b[0m\u001b[0;36m1\u001b[0m\u001b[0;34m]\u001b[0m \u001b[0;34m>=\u001b[0m \u001b[0mths\u001b[0m \u001b[0;32melse\u001b[0m \u001b[0;36m0\u001b[0m \u001b[0;32mfor\u001b[0m \u001b[0mi\u001b[0m \u001b[0;32min\u001b[0m \u001b[0mrange\u001b[0m\u001b[0;34m(\u001b[0m\u001b[0mlen\u001b[0m\u001b[0;34m(\u001b[0m\u001b[0my_predicted\u001b[0m\u001b[0;34m)\u001b[0m\u001b[0;34m)\u001b[0m\u001b[0;34m]\u001b[0m\u001b[0;34m\u001b[0m\u001b[0;34m\u001b[0m\u001b[0m\n\u001b[1;32m      9\u001b[0m \u001b[0;34m\u001b[0m\u001b[0m\n",
            "\u001b[0;32m/usr/local/lib/python3.10/dist-packages/sklearn/svm/_base.py\u001b[0m in \u001b[0;36mpredict_proba\u001b[0;34m(self, X)\u001b[0m\n\u001b[1;32m    862\u001b[0m             \u001b[0mself\u001b[0m\u001b[0;34m.\u001b[0m\u001b[0m_sparse_predict_proba\u001b[0m \u001b[0;32mif\u001b[0m \u001b[0mself\u001b[0m\u001b[0;34m.\u001b[0m\u001b[0m_sparse\u001b[0m \u001b[0;32melse\u001b[0m \u001b[0mself\u001b[0m\u001b[0;34m.\u001b[0m\u001b[0m_dense_predict_proba\u001b[0m\u001b[0;34m\u001b[0m\u001b[0;34m\u001b[0m\u001b[0m\n\u001b[1;32m    863\u001b[0m         )\n\u001b[0;32m--> 864\u001b[0;31m         \u001b[0;32mreturn\u001b[0m \u001b[0mpred_proba\u001b[0m\u001b[0;34m(\u001b[0m\u001b[0mX\u001b[0m\u001b[0;34m)\u001b[0m\u001b[0;34m\u001b[0m\u001b[0;34m\u001b[0m\u001b[0m\n\u001b[0m\u001b[1;32m    865\u001b[0m \u001b[0;34m\u001b[0m\u001b[0m\n\u001b[1;32m    866\u001b[0m     \u001b[0;34m@\u001b[0m\u001b[0mavailable_if\u001b[0m\u001b[0;34m(\u001b[0m\u001b[0m_check_proba\u001b[0m\u001b[0;34m)\u001b[0m\u001b[0;34m\u001b[0m\u001b[0;34m\u001b[0m\u001b[0m\n",
            "\u001b[0;32m/usr/local/lib/python3.10/dist-packages/sklearn/svm/_base.py\u001b[0m in \u001b[0;36m_dense_predict_proba\u001b[0;34m(self, X)\u001b[0m\n\u001b[1;32m    902\u001b[0m \u001b[0;34m\u001b[0m\u001b[0m\n\u001b[1;32m    903\u001b[0m         \u001b[0msvm_type\u001b[0m \u001b[0;34m=\u001b[0m \u001b[0mLIBSVM_IMPL\u001b[0m\u001b[0;34m.\u001b[0m\u001b[0mindex\u001b[0m\u001b[0;34m(\u001b[0m\u001b[0mself\u001b[0m\u001b[0;34m.\u001b[0m\u001b[0m_impl\u001b[0m\u001b[0;34m)\u001b[0m\u001b[0;34m\u001b[0m\u001b[0;34m\u001b[0m\u001b[0m\n\u001b[0;32m--> 904\u001b[0;31m         pprob = libsvm.predict_proba(\n\u001b[0m\u001b[1;32m    905\u001b[0m             \u001b[0mX\u001b[0m\u001b[0;34m,\u001b[0m\u001b[0;34m\u001b[0m\u001b[0;34m\u001b[0m\u001b[0m\n\u001b[1;32m    906\u001b[0m             \u001b[0mself\u001b[0m\u001b[0;34m.\u001b[0m\u001b[0msupport_\u001b[0m\u001b[0;34m,\u001b[0m\u001b[0;34m\u001b[0m\u001b[0;34m\u001b[0m\u001b[0m\n",
            "\u001b[0;31mKeyboardInterrupt\u001b[0m: "
          ]
        }
      ],
      "source": [
        "import matplotlib.pyplot as plt\n",
        "\n",
        "ths = np.linspace(0, 1, 100)\n",
        "\n",
        "def FalseDiscoveryRate(model, x_test, y_test, ths):\n",
        "\n",
        "  y_predicted = model.predict_proba(x_test)\n",
        "  y_binary_predicted = [1 if y_predicted[i][1] >= ths else 0 for i in range(len(y_predicted))]\n",
        "\n",
        "  TN = sum([1 if y_binary_predicted[i] == y_test[i] and y_test[i]==0 else 0 for i in range(len(y_binary_predicted))])\n",
        "  FP = sum([1 if y_binary_predicted[i] == 1 and y_test[i] == 0 else 0 for i in range(len(y_binary_predicted))])\n",
        "  return(FP/(TN+FP))\n",
        "\n",
        "def TruePositiveRate(model, x_test, y_test, ths):\n",
        "\n",
        "  y_predicted = model.predict_proba(x_test)\n",
        "  y_binary_predicted = [1 if y_predicted[i][1] >= ths else 0 for i in range(len(y_predicted))]\n",
        "\n",
        "  TP = sum([1 if y_binary_predicted[i] == y_test[i] and y_test[i]==1 else 0 for i in range(len(y_binary_predicted))])\n",
        "  FN = sum([1 if y_binary_predicted[i] == 0 and y_test[i] == 1 else 0 for i in range(len(y_binary_predicted))])\n",
        "\n",
        "  return(TP/(TP+FN))\n",
        "\n",
        "FDR_log1 = [FalseDiscoveryRate(model1, x_test, y1_test, ths[i]) for i in range(len(ths))]\n",
        "TPR_log1 = [TruePositiveRate(model1, x_test, y1_test, ths[i]) for i in range(len(ths))]\n",
        "\n",
        "FDR_log2 = [FalseDiscoveryRate(model2, x_test, y2_test, ths[i]) for i in range(len(ths))]\n",
        "TPR_log2 = [TruePositiveRate(model2, x_test, y2_test, ths[i]) for i in range(len(ths))]\n",
        "\n",
        "FDR_svm1 = [FalseDiscoveryRate(model1_svm, normalised_x_test, y1_test, ths[i]) for i in range(len(ths))]\n",
        "TPR_svm1 = [TruePositiveRate(model1_svm, normalised_x_test, y1_test, ths[i]) for i in range(len(ths))]\n",
        "\n",
        "FDR_svm2 = [FalseDiscoveryRate(model2_svm, normalised_x_test, y2_test, ths[i]) for i in range(len(ths))]\n",
        "TPR_svm2 = [TruePositiveRate(model2_svm, normalised_x_test, y2_test, ths[i]) for i in range(len(ths))]\n",
        "\n",
        "plt.figure(figsize=(8, 6))\n",
        "\n",
        "plt.plot(FDR_log1, TPR_log1, color='blue', label='Logistic Regression Dataset 1')\n",
        "plt.plot(FDR_log2, TPR_log2, color='red', label='Logistic Regression Dataset 2')\n",
        "plt.plot(FDR_svm1, TPR_svm1, color='green', label='SVM Normalised Dataset 1')\n",
        "plt.plot(FDR_svm2, TPR_svm2, color='purple', label='SVM Normalised Dataset 2')\n",
        "\n",
        "plt.xlabel('False Discovery Rate (FDR)')\n",
        "plt.ylabel('True Positive Rate (TPR)')\n",
        "plt.title('FDR vs TPR for Logistic Regression and SVM across Datasets')\n",
        "\n",
        "plt.legend()\n",
        "plt.show()\n",
        "\n",
        "# To calculate the curves, it is fine to take 100 threshold values c, i.e.,\n",
        "\n",
        "# To approximately calculate the AUC, it is fine to simply use Riemann sums.\n",
        "# This means, if you have 100 (a_i, b_i) pairs for the curves, a_1 <= a_2 <= ...\n",
        "# then you may simply use the sum\n",
        "# sum_{i=1}^99 (b_i + b_{i+1})/2 * (a_{i+1}-a_i)\n",
        "# as the approximation of the integral (or AUC)\n",
        "\n",
        "\n",
        "# first data set & logistic regression:\n",
        "# (the code should be reusable for all cases, only exchanging datasets and predicted probabilities depending on the model)\n",
        "\n",
        "# Calculate positives (only depending on the dataset)\n",
        "\n",
        "# Calculate true positives for all threshold values\n",
        "\n",
        "# Calculate false positives for all threshold values\n",
        "\n",
        "# Calculate FDR and TPR rate (points on the FDR/TPR curve) and the AUC\n",
        "\n",
        "\n",
        "# second data set & logistic regression:\n",
        "\n",
        "\n",
        "# first data set and rkhs regression:\n",
        "\n",
        "\n",
        "# second data set and rkhs regression:"
      ]
    },
    {
      "cell_type": "code",
      "execution_count": null,
      "metadata": {
        "colab": {
          "base_uri": "https://localhost:8080/"
        },
        "id": "9-Zak-WzG64J",
        "outputId": "57d42651-409e-40d9-f809-269c7f00e5c5"
      },
      "outputs": [
        {
          "output_type": "stream",
          "name": "stdout",
          "text": [
            "Area under FDR/TPR curve for Logistic Regression on training data is: 0.9948661053398679\n",
            "Area under FDR/TPR curve for Logistic Regression on test data is: 0.8645559514351384\n",
            "Area under FDR/TPR curve for SVM on training is: 0.9942108003860003\n",
            "Area under FDR/TPR curve for SVM on test is: 0.9842048337632698\n"
          ]
        }
      ],
      "source": [
        "def auc(TPR, FDR):\n",
        "    i=0\n",
        "    auc=0\n",
        "    while i < len(ths)-1:\n",
        "        auc+=0.5*(TPR[i] + TPR[i+1])*abs(FDR[i+1] - FDR[i])\n",
        "        i+=1\n",
        "    return auc\n",
        "\n",
        "print('Area under FDR/TPR curve for Logistic Regression on training data is:', auc(TPR_log1, FDR_log1))\n",
        "print('Area under FDR/TPR curve for Logistic Regression on test data is:', auc(TPR_log2, FDR_log2))\n",
        "print('Area under FDR/TPR curve for SVM on training is:', auc(TPR_svm1, FDR_svm1))\n",
        "print('Area under FDR/TPR curve for SVM on test is:', auc(TPR_svm2, FDR_svm2))"
      ]
    },
    {
      "cell_type": "code",
      "execution_count": 9,
      "metadata": {
        "id": "5YvGSeDoc9ZS"
      },
      "outputs": [],
      "source": [
        "# Exercise 3.\n",
        "# Set model parameters and define matrix D\n",
        "k = 50000\n",
        "# Construct (n x 50000) Unif r.v.\n",
        "tsi = np.random.uniform(0,1, (n, k))\n",
        "p2_test = np.array(p2[m:]).reshape(n, 1)\n",
        "# Assign 1 if tsi <= p(x_i), 0 otherwise\n",
        "D = (tsi <= p2_test).astype(int)\n",
        "\n",
        "loan = 1000\n",
        "# Different interest rates per strategy\n",
        "interest_rates = np.array([0.055, 0.01, 0.01])\n",
        "#Different probability thresholds for the 2nd and 3rd strategies (log and svm)\n",
        "awarded_threshold = np.array([0.95, 0.95])"
      ]
    },
    {
      "cell_type": "code",
      "source": [
        "def plot_results(balance, strategy):\n",
        "  # Plot histogram of profits and losses\n",
        "  plt.figure(figsize=(10, 6))\n",
        "  plt.hist(balance, bins=25, edgecolor='black')\n",
        "  plt.xlabel('Portfolio balance')\n",
        "  plt.ylabel('Frequency')\n",
        "  plt.title(f\"Strategy {strategy} P&L histogram against different Market Scenarios\")\n",
        "  plt.show()\n",
        "\n",
        "  # Calculate expected profit and losses and 95%-VaR\n",
        "  expected_profit_loss = np.mean(balance)\n",
        "  # We plot the VaR as a positive value, as it is normally refered in the literature\n",
        "  var_95_percent = -np.percentile(balance, 5)\n",
        "  print(f\"Strategy {strategy} results:\")\n",
        "  print('Strategy expected Profit/Loss:', expected_profit_loss)\n",
        "  print('95%-VaR (Value at Risk):', var_95_percent)"
      ],
      "metadata": {
        "id": "K8VBac_7HlgY"
      },
      "execution_count": 10,
      "outputs": []
    },
    {
      "cell_type": "code",
      "source": [
        "# Strategy 1:\n",
        "# Define Portfolio and possible outcomes for this portfolio using matrix D\n",
        "# Sum the amount of payers by columns\n",
        "payers = np.sum(D, axis = 0)\n",
        "print(payers)\n",
        "# n being the column size per scenario\n",
        "delinquents = n - payers\n",
        "scenario1_balance = payers * (loan * interest_rates[0]) - delinquents * loan\n",
        "\n",
        "# Plot results\n",
        "plot_results(scenario1_balance, 1)"
      ],
      "metadata": {
        "colab": {
          "base_uri": "https://localhost:8080/",
          "height": 632
        },
        "id": "MY-_vYnNhro2",
        "outputId": "36df3e64-bf20-4758-e5e3-1ea84e507bcd"
      },
      "execution_count": 11,
      "outputs": [
        {
          "output_type": "stream",
          "name": "stdout",
          "text": [
            "[9473 9514 9463 ... 9482 9475 9502]\n"
          ]
        },
        {
          "output_type": "display_data",
          "data": {
            "text/plain": [
              "<Figure size 1000x600 with 1 Axes>"
            ],
            "image/png": "[encoded data removed]"
          },
          "metadata": {}
        },
        {
          "output_type": "stream",
          "name": "stdout",
          "text": [
            "Strategy 1 results:\n",
            "Strategy expected Profit/Loss: 7649.9888\n",
            "95%-VaR (Value at Risk): 12315.0\n"
          ]
        }
      ]
    },
    {
      "cell_type": "code",
      "source": [
        "def portfolio(borrowers_ind, D, strategy):\n",
        "  # From the whole scenario, filter the ones that received the credit\n",
        "  D_adjusted = D[borrowers_ind]\n",
        "  # Sum the amount of payers for each scenario\n",
        "  payers = np.sum(D_adjusted, axis=0)\n",
        "  dim_borr = len(borrowers_ind)\n",
        "  delinquents = dim_borr - payers\n",
        "  balance = payers * loan * interest_rates[strategy-1] - delinquents * loan\n",
        "  return balance\n",
        "\n",
        "\n",
        "# Strategy 2:\n",
        "p2_log_pred = model2.predict_proba(x_total[m:])[:, 1]\n",
        "# We get the indices of the persons that will receive the credit\n",
        "borrowers_ind = np.where(p2_log_pred >= awarded_threshold[0])[0]\n",
        "scenario2_balance = portfolio(borrowers_ind, D, 2)\n",
        "\n",
        "# Plot results\n",
        "plot_results(scenario2_balance, 2)"
      ],
      "metadata": {
        "colab": {
          "base_uri": "https://localhost:8080/",
          "height": 616
        },
        "id": "iYorPy35cpq_",
        "outputId": "12509975-f419-44c3-d77d-d5b63da33771"
      },
      "execution_count": null,
      "outputs": [
        {
          "output_type": "display_data",
          "data": {
            "text/plain": [
              "<Figure size 1000x600 with 1 Axes>"
            ],
            "image/png": "[encoded data removed]"
          },
          "metadata": {}
        },
        {
          "output_type": "stream",
          "name": "stdout",
          "text": [
            "Strategy 2 results:\n",
            "Strategy xpected Profit/Loss: 6370.2822\n",
            "95%-VaR (Value at Risk): 5150.0\n"
          ]
        }
      ]
    },
    {
      "cell_type": "code",
      "source": [
        "# Strategy 3:\n",
        "p2_svm_pred = model2_svm.predict_proba(normalised_x_test)[:, 1]\n",
        "# We get the indices of the persons that will receive the credit\n",
        "borrowers_ind = np.where(p2_svm_pred >= awarded_threshold[1])[0]\n",
        "scenario3_balance = portfolio(borrowers_ind, D, 2)\n",
        "\n",
        "# Plot results\n",
        "plot_results(scenario3_balance, 3)"
      ],
      "metadata": {
        "colab": {
          "base_uri": "https://localhost:8080/",
          "height": 616
        },
        "id": "Qz6WU5SLhSGj",
        "outputId": "79623525-5541-4335-f80b-4c0fa6f5cd66"
      },
      "execution_count": null,
      "outputs": [
        {
          "output_type": "display_data",
          "data": {
            "text/plain": [
              "<Figure size 1000x600 with 1 Axes>"
            ],
            "image/png": "[encoded data removed]"
          },
          "metadata": {}
        },
        {
          "output_type": "stream",
          "name": "stdout",
          "text": [
            "Strategy 3 results:\n",
            "Strategy xpected Profit/Loss: 68497.9804\n",
            "95%-VaR (Value at Risk): -61030.0\n"
          ]
        }
      ]
    },
    {
      "cell_type": "code",
      "source": [],
      "metadata": {
        "id": "-1xWMRTgjDP9"
      },
      "execution_count": null,
      "outputs": []
    }
  ],
  "metadata": {
    "colab": {
      "provenance": []
    },
    "kernelspec": {
      "display_name": "base",
      "language": "python",
      "name": "python3"
    },
    "language_info": {
      "codemirror_mode": {
        "name": "ipython",
        "version": 3
      },
      "file_extension": ".py",
      "mimetype": "text/x-python",
      "name": "python",
      "nbconvert_exporter": "python",
      "pygments_lexer": "ipython3",
      "version": "3.12.4"
    }
  },
  "nbformat": 4,
  "nbformat_minor": 0
}