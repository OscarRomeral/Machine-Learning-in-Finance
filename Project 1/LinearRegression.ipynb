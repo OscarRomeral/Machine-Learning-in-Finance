{
 "cells": [
  {
   "cell_type": "code",
   "execution_count": 1,
   "metadata": {
    "id": "F72wy3Jf9py6"
   },
   "outputs": [],
   "source": [
    "import pandas as pd\n",
    "import numpy as np\n",
    "import matplotlib.pyplot as plt\n",
    "import random as rd\n",
    "import sympy\n",
    "from scipy.stats import probplot\n",
    "from scipy.stats import boxcox\n",
    "from sklearn.model_selection import train_test_split\n",
    "from sklearn.linear_model import LinearRegression\n",
    "from sklearn.metrics import mean_squared_error, r2_score"
   ]
  },
  {
   "cell_type": "markdown",
   "metadata": {
    "id": "8npLyj7TJBy3"
   },
   "source": [
    "# Point 1"
   ]
  },
  {
   "cell_type": "markdown",
   "metadata": {
    "id": "wV-iX43RIzEh"
   },
   "source": [
    "## **Subpoint a**"
   ]
  },
  {
   "cell_type": "code",
   "execution_count": 52,
   "metadata": {
    "id": "ImlBoThp_0ZD"
   },
   "outputs": [
    {
     "data": {
      "text/html": [
       "<div>\n",
       "<style scoped>\n",
       "    .dataframe tbody tr th:only-of-type {\n",
       "        vertical-align: middle;\n",
       "    }\n",
       "\n",
       "    .dataframe tbody tr th {\n",
       "        vertical-align: top;\n",
       "    }\n",
       "\n",
       "    .dataframe thead th {\n",
       "        text-align: right;\n",
       "    }\n",
       "</style>\n",
       "<table border=\"1\" class=\"dataframe\">\n",
       "  <thead>\n",
       "    <tr style=\"text-align: right;\">\n",
       "      <th></th>\n",
       "      <th>Id</th>\n",
       "      <th>MSSubClass</th>\n",
       "      <th>MSZoning</th>\n",
       "      <th>LotFrontage</th>\n",
       "      <th>LotArea</th>\n",
       "      <th>Street</th>\n",
       "      <th>Alley</th>\n",
       "      <th>LotShape</th>\n",
       "      <th>LandContour</th>\n",
       "      <th>Utilities</th>\n",
       "      <th>...</th>\n",
       "      <th>PoolArea</th>\n",
       "      <th>PoolQC</th>\n",
       "      <th>Fence</th>\n",
       "      <th>MiscFeature</th>\n",
       "      <th>MiscVal</th>\n",
       "      <th>MoSold</th>\n",
       "      <th>YrSold</th>\n",
       "      <th>SaleType</th>\n",
       "      <th>SaleCondition</th>\n",
       "      <th>SalePrice</th>\n",
       "    </tr>\n",
       "  </thead>\n",
       "  <tbody>\n",
       "    <tr>\n",
       "      <th>0</th>\n",
       "      <td>1</td>\n",
       "      <td>60</td>\n",
       "      <td>RL</td>\n",
       "      <td>65.0</td>\n",
       "      <td>8450</td>\n",
       "      <td>Pave</td>\n",
       "      <td>NaN</td>\n",
       "      <td>Reg</td>\n",
       "      <td>Lvl</td>\n",
       "      <td>AllPub</td>\n",
       "      <td>...</td>\n",
       "      <td>0</td>\n",
       "      <td>NaN</td>\n",
       "      <td>NaN</td>\n",
       "      <td>NaN</td>\n",
       "      <td>0</td>\n",
       "      <td>2</td>\n",
       "      <td>2008</td>\n",
       "      <td>WD</td>\n",
       "      <td>Normal</td>\n",
       "      <td>208500</td>\n",
       "    </tr>\n",
       "    <tr>\n",
       "      <th>1</th>\n",
       "      <td>2</td>\n",
       "      <td>20</td>\n",
       "      <td>RL</td>\n",
       "      <td>80.0</td>\n",
       "      <td>9600</td>\n",
       "      <td>Pave</td>\n",
       "      <td>NaN</td>\n",
       "      <td>Reg</td>\n",
       "      <td>Lvl</td>\n",
       "      <td>AllPub</td>\n",
       "      <td>...</td>\n",
       "      <td>0</td>\n",
       "      <td>NaN</td>\n",
       "      <td>NaN</td>\n",
       "      <td>NaN</td>\n",
       "      <td>0</td>\n",
       "      <td>5</td>\n",
       "      <td>2007</td>\n",
       "      <td>WD</td>\n",
       "      <td>Normal</td>\n",
       "      <td>181500</td>\n",
       "    </tr>\n",
       "    <tr>\n",
       "      <th>2</th>\n",
       "      <td>3</td>\n",
       "      <td>60</td>\n",
       "      <td>RL</td>\n",
       "      <td>68.0</td>\n",
       "      <td>11250</td>\n",
       "      <td>Pave</td>\n",
       "      <td>NaN</td>\n",
       "      <td>IR1</td>\n",
       "      <td>Lvl</td>\n",
       "      <td>AllPub</td>\n",
       "      <td>...</td>\n",
       "      <td>0</td>\n",
       "      <td>NaN</td>\n",
       "      <td>NaN</td>\n",
       "      <td>NaN</td>\n",
       "      <td>0</td>\n",
       "      <td>9</td>\n",
       "      <td>2008</td>\n",
       "      <td>WD</td>\n",
       "      <td>Normal</td>\n",
       "      <td>223500</td>\n",
       "    </tr>\n",
       "    <tr>\n",
       "      <th>3</th>\n",
       "      <td>4</td>\n",
       "      <td>70</td>\n",
       "      <td>RL</td>\n",
       "      <td>60.0</td>\n",
       "      <td>9550</td>\n",
       "      <td>Pave</td>\n",
       "      <td>NaN</td>\n",
       "      <td>IR1</td>\n",
       "      <td>Lvl</td>\n",
       "      <td>AllPub</td>\n",
       "      <td>...</td>\n",
       "      <td>0</td>\n",
       "      <td>NaN</td>\n",
       "      <td>NaN</td>\n",
       "      <td>NaN</td>\n",
       "      <td>0</td>\n",
       "      <td>2</td>\n",
       "      <td>2006</td>\n",
       "      <td>WD</td>\n",
       "      <td>Abnorml</td>\n",
       "      <td>140000</td>\n",
       "    </tr>\n",
       "    <tr>\n",
       "      <th>4</th>\n",
       "      <td>5</td>\n",
       "      <td>60</td>\n",
       "      <td>RL</td>\n",
       "      <td>84.0</td>\n",
       "      <td>14260</td>\n",
       "      <td>Pave</td>\n",
       "      <td>NaN</td>\n",
       "      <td>IR1</td>\n",
       "      <td>Lvl</td>\n",
       "      <td>AllPub</td>\n",
       "      <td>...</td>\n",
       "      <td>0</td>\n",
       "      <td>NaN</td>\n",
       "      <td>NaN</td>\n",
       "      <td>NaN</td>\n",
       "      <td>0</td>\n",
       "      <td>12</td>\n",
       "      <td>2008</td>\n",
       "      <td>WD</td>\n",
       "      <td>Normal</td>\n",
       "      <td>250000</td>\n",
       "    </tr>\n",
       "    <tr>\n",
       "      <th>...</th>\n",
       "      <td>...</td>\n",
       "      <td>...</td>\n",
       "      <td>...</td>\n",
       "      <td>...</td>\n",
       "      <td>...</td>\n",
       "      <td>...</td>\n",
       "      <td>...</td>\n",
       "      <td>...</td>\n",
       "      <td>...</td>\n",
       "      <td>...</td>\n",
       "      <td>...</td>\n",
       "      <td>...</td>\n",
       "      <td>...</td>\n",
       "      <td>...</td>\n",
       "      <td>...</td>\n",
       "      <td>...</td>\n",
       "      <td>...</td>\n",
       "      <td>...</td>\n",
       "      <td>...</td>\n",
       "      <td>...</td>\n",
       "      <td>...</td>\n",
       "    </tr>\n",
       "    <tr>\n",
       "      <th>1455</th>\n",
       "      <td>1456</td>\n",
       "      <td>60</td>\n",
       "      <td>RL</td>\n",
       "      <td>62.0</td>\n",
       "      <td>7917</td>\n",
       "      <td>Pave</td>\n",
       "      <td>NaN</td>\n",
       "      <td>Reg</td>\n",
       "      <td>Lvl</td>\n",
       "      <td>AllPub</td>\n",
       "      <td>...</td>\n",
       "      <td>0</td>\n",
       "      <td>NaN</td>\n",
       "      <td>NaN</td>\n",
       "      <td>NaN</td>\n",
       "      <td>0</td>\n",
       "      <td>8</td>\n",
       "      <td>2007</td>\n",
       "      <td>WD</td>\n",
       "      <td>Normal</td>\n",
       "      <td>175000</td>\n",
       "    </tr>\n",
       "    <tr>\n",
       "      <th>1456</th>\n",
       "      <td>1457</td>\n",
       "      <td>20</td>\n",
       "      <td>RL</td>\n",
       "      <td>85.0</td>\n",
       "      <td>13175</td>\n",
       "      <td>Pave</td>\n",
       "      <td>NaN</td>\n",
       "      <td>Reg</td>\n",
       "      <td>Lvl</td>\n",
       "      <td>AllPub</td>\n",
       "      <td>...</td>\n",
       "      <td>0</td>\n",
       "      <td>NaN</td>\n",
       "      <td>MnPrv</td>\n",
       "      <td>NaN</td>\n",
       "      <td>0</td>\n",
       "      <td>2</td>\n",
       "      <td>2010</td>\n",
       "      <td>WD</td>\n",
       "      <td>Normal</td>\n",
       "      <td>210000</td>\n",
       "    </tr>\n",
       "    <tr>\n",
       "      <th>1457</th>\n",
       "      <td>1458</td>\n",
       "      <td>70</td>\n",
       "      <td>RL</td>\n",
       "      <td>66.0</td>\n",
       "      <td>9042</td>\n",
       "      <td>Pave</td>\n",
       "      <td>NaN</td>\n",
       "      <td>Reg</td>\n",
       "      <td>Lvl</td>\n",
       "      <td>AllPub</td>\n",
       "      <td>...</td>\n",
       "      <td>0</td>\n",
       "      <td>NaN</td>\n",
       "      <td>GdPrv</td>\n",
       "      <td>Shed</td>\n",
       "      <td>2500</td>\n",
       "      <td>5</td>\n",
       "      <td>2010</td>\n",
       "      <td>WD</td>\n",
       "      <td>Normal</td>\n",
       "      <td>266500</td>\n",
       "    </tr>\n",
       "    <tr>\n",
       "      <th>1458</th>\n",
       "      <td>1459</td>\n",
       "      <td>20</td>\n",
       "      <td>RL</td>\n",
       "      <td>68.0</td>\n",
       "      <td>9717</td>\n",
       "      <td>Pave</td>\n",
       "      <td>NaN</td>\n",
       "      <td>Reg</td>\n",
       "      <td>Lvl</td>\n",
       "      <td>AllPub</td>\n",
       "      <td>...</td>\n",
       "      <td>0</td>\n",
       "      <td>NaN</td>\n",
       "      <td>NaN</td>\n",
       "      <td>NaN</td>\n",
       "      <td>0</td>\n",
       "      <td>4</td>\n",
       "      <td>2010</td>\n",
       "      <td>WD</td>\n",
       "      <td>Normal</td>\n",
       "      <td>142125</td>\n",
       "    </tr>\n",
       "    <tr>\n",
       "      <th>1459</th>\n",
       "      <td>1460</td>\n",
       "      <td>20</td>\n",
       "      <td>RL</td>\n",
       "      <td>75.0</td>\n",
       "      <td>9937</td>\n",
       "      <td>Pave</td>\n",
       "      <td>NaN</td>\n",
       "      <td>Reg</td>\n",
       "      <td>Lvl</td>\n",
       "      <td>AllPub</td>\n",
       "      <td>...</td>\n",
       "      <td>0</td>\n",
       "      <td>NaN</td>\n",
       "      <td>NaN</td>\n",
       "      <td>NaN</td>\n",
       "      <td>0</td>\n",
       "      <td>6</td>\n",
       "      <td>2008</td>\n",
       "      <td>WD</td>\n",
       "      <td>Normal</td>\n",
       "      <td>147500</td>\n",
       "    </tr>\n",
       "  </tbody>\n",
       "</table>\n",
       "<p>1460 rows × 81 columns</p>\n",
       "</div>"
      ],
      "text/plain": [
       "        Id  MSSubClass MSZoning  LotFrontage  LotArea Street Alley LotShape  \\\n",
       "0        1          60       RL         65.0     8450   Pave   NaN      Reg   \n",
       "1        2          20       RL         80.0     9600   Pave   NaN      Reg   \n",
       "2        3          60       RL         68.0    11250   Pave   NaN      IR1   \n",
       "3        4          70       RL         60.0     9550   Pave   NaN      IR1   \n",
       "4        5          60       RL         84.0    14260   Pave   NaN      IR1   \n",
       "...    ...         ...      ...          ...      ...    ...   ...      ...   \n",
       "1455  1456          60       RL         62.0     7917   Pave   NaN      Reg   \n",
       "1456  1457          20       RL         85.0    13175   Pave   NaN      Reg   \n",
       "1457  1458          70       RL         66.0     9042   Pave   NaN      Reg   \n",
       "1458  1459          20       RL         68.0     9717   Pave   NaN      Reg   \n",
       "1459  1460          20       RL         75.0     9937   Pave   NaN      Reg   \n",
       "\n",
       "     LandContour Utilities  ... PoolArea PoolQC  Fence MiscFeature MiscVal  \\\n",
       "0            Lvl    AllPub  ...        0    NaN    NaN         NaN       0   \n",
       "1            Lvl    AllPub  ...        0    NaN    NaN         NaN       0   \n",
       "2            Lvl    AllPub  ...        0    NaN    NaN         NaN       0   \n",
       "3            Lvl    AllPub  ...        0    NaN    NaN         NaN       0   \n",
       "4            Lvl    AllPub  ...        0    NaN    NaN         NaN       0   \n",
       "...          ...       ...  ...      ...    ...    ...         ...     ...   \n",
       "1455         Lvl    AllPub  ...        0    NaN    NaN         NaN       0   \n",
       "1456         Lvl    AllPub  ...        0    NaN  MnPrv         NaN       0   \n",
       "1457         Lvl    AllPub  ...        0    NaN  GdPrv        Shed    2500   \n",
       "1458         Lvl    AllPub  ...        0    NaN    NaN         NaN       0   \n",
       "1459         Lvl    AllPub  ...        0    NaN    NaN         NaN       0   \n",
       "\n",
       "     MoSold YrSold  SaleType  SaleCondition  SalePrice  \n",
       "0         2   2008        WD         Normal     208500  \n",
       "1         5   2007        WD         Normal     181500  \n",
       "2         9   2008        WD         Normal     223500  \n",
       "3         2   2006        WD        Abnorml     140000  \n",
       "4        12   2008        WD         Normal     250000  \n",
       "...     ...    ...       ...            ...        ...  \n",
       "1455      8   2007        WD         Normal     175000  \n",
       "1456      2   2010        WD         Normal     210000  \n",
       "1457      5   2010        WD         Normal     266500  \n",
       "1458      4   2010        WD         Normal     142125  \n",
       "1459      6   2008        WD         Normal     147500  \n",
       "\n",
       "[1460 rows x 81 columns]"
      ]
     },
     "execution_count": 52,
     "metadata": {},
     "output_type": "execute_result"
    }
   ],
   "source": [
    "Housing = pd.read_csv('Housing.csv')\n",
    "Housing"
   ]
  },
  {
   "cell_type": "markdown",
   "metadata": {
    "id": "ibUU2vd-IxC9"
   },
   "source": [
    "## **Subpoint b**"
   ]
  },
  {
   "cell_type": "code",
   "execution_count": 55,
   "metadata": {
    "colab": {
     "base_uri": "https://localhost:8080/",
     "height": 469
    },
    "id": "bFFH8vDmBPkf",
    "outputId": "23d8c3cf-4ab9-4a67-b257-f8da0f947dc1"
   },
   "outputs": [
    {
     "data": {
      "text/plain": [
       "array([[<Axes: title={'center': 'SalePrice'}>]], dtype=object)"
      ]
     },
     "execution_count": 55,
     "metadata": {},
     "output_type": "execute_result"
    },
    {
     "data": {
      "image/png": "[encoded data removed]",
      "text/plain": [
       "<Figure size 640x480 with 1 Axes>"
      ]
     },
     "metadata": {},
     "output_type": "display_data"
    }
   ],
   "source": [
    "Housing.hist(column = \"SalePrice\",bins = 20)"
   ]
  },
  {
   "cell_type": "code",
   "execution_count": 56,
   "metadata": {
    "colab": {
     "base_uri": "https://localhost:8080/",
     "height": 540
    },
    "id": "K3jVRn8rCRHK",
    "outputId": "8bad2328-38ae-43ba-abd1-d1666af1a744"
   },
   "outputs": [
    {
     "data": {
      "text/plain": [
       "((array([-3.30513952, -3.04793228, -2.90489705, ...,  2.90489705,\n",
       "          3.04793228,  3.30513952]),\n",
       "  array([ 34900,  35311,  37900, ..., 625000, 745000, 755000], dtype=int64)),\n",
       " (74160.16474519415, 180921.19589041095, 0.9319665641512989))"
      ]
     },
     "execution_count": 56,
     "metadata": {},
     "output_type": "execute_result"
    },
    {
     "data": {
      "image/png": "[encoded data removed]",
      "text/plain": [
       "<Figure size 640x480 with 1 Axes>"
      ]
     },
     "metadata": {},
     "output_type": "display_data"
    }
   ],
   "source": [
    "probplot(Housing['SalePrice'], dist=\"norm\", plot=plt)"
   ]
  },
  {
   "cell_type": "markdown",
   "metadata": {
    "id": "c5qI3NeFCZP9"
   },
   "source": [
    "As we can see both at the histogram of the sale prices and on theirs QQ-Plot, sale prices do not follow gaussian distribution. We will now try to normalize them using Box-Cox transformation.\n"
   ]
  },
  {
   "cell_type": "code",
   "execution_count": 58,
   "metadata": {
    "id": "c2cttAayEL0T"
   },
   "outputs": [],
   "source": [
    "Housing['SalePriceTrans'], _ = boxcox(Housing['SalePrice'])"
   ]
  },
  {
   "cell_type": "code",
   "execution_count": 59,
   "metadata": {
    "colab": {
     "base_uri": "https://localhost:8080/",
     "height": 469
    },
    "id": "Jm9AqXaqEbNw",
    "outputId": "c17453bd-73cd-44a7-9a99-26760ecb8d74"
   },
   "outputs": [
    {
     "data": {
      "text/plain": [
       "array([[<Axes: title={'center': 'SalePriceTrans'}>]], dtype=object)"
      ]
     },
     "execution_count": 59,
     "metadata": {},
     "output_type": "execute_result"
    },
    {
     "data": {
      "image/png": "[encoded data removed]",
      "text/plain": [
       "<Figure size 640x480 with 1 Axes>"
      ]
     },
     "metadata": {},
     "output_type": "display_data"
    }
   ],
   "source": [
    "Housing.hist(column = \"SalePriceTrans\",bins = 20)"
   ]
  },
  {
   "cell_type": "code",
   "execution_count": 60,
   "metadata": {
    "colab": {
     "base_uri": "https://localhost:8080/",
     "height": 557
    },
    "id": "APPhnd6KEg_A",
    "outputId": "697ce131-b420-4ea8-bfae-37d094f8623b"
   },
   "outputs": [
    {
     "data": {
      "text/plain": [
       "((array([-3.30513952, -3.04793228, -2.90489705, ...,  2.90489705,\n",
       "          3.04793228,  3.30513952]),\n",
       "  array([7.18570211, 7.19093599, 7.22246733, ..., 8.34295923, 8.40545244,\n",
       "         8.41016236])),\n",
       " (0.1578108212718165, 7.842252009506654, 0.9955315707916031))"
      ]
     },
     "execution_count": 60,
     "metadata": {},
     "output_type": "execute_result"
    },
    {
     "data": {
      "image/png": "[encoded data removed]",
      "text/plain": [
       "<Figure size 640x480 with 1 Axes>"
      ]
     },
     "metadata": {},
     "output_type": "display_data"
    }
   ],
   "source": [
    "probplot(Housing['SalePriceTrans'], dist=\"norm\", plot=plt)"
   ]
  },
  {
   "cell_type": "markdown",
   "metadata": {
    "id": "e_e03LLVEyla"
   },
   "source": [
    "We can see that after applying Box-Cox transformation to our data, transformed datas histogram resembles a normal distribution. On the QQ-Plot, however, we can see that it still doesn't follow gaussian distribution perfectly since the \"edges\" of the distribution drive apart from the theoretical normal distribution."
   ]
  },
  {
   "cell_type": "markdown",
   "metadata": {
    "id": "2SX-1_PEIp57"
   },
   "source": [
    "## **Subpoint c**"
   ]
  },
  {
   "cell_type": "code",
   "execution_count": 64,
   "metadata": {
    "id": "NJkr9uwRbCE-"
   },
   "outputs": [],
   "source": [
    "h = Housing"
   ]
  },
  {
   "cell_type": "code",
   "execution_count": 67,
   "metadata": {
    "id": "2HR39etUHmzV"
   },
   "outputs": [],
   "source": [
    "non_categorical_cols = Housing.select_dtypes(exclude=['object']).columns\n",
    "categorical_cols = Housing.select_dtypes(include=['object']).columns\n",
    "Housing[non_categorical_cols] = Housing[non_categorical_cols].fillna(Housing[non_categorical_cols].mean())"
   ]
  },
  {
   "cell_type": "code",
   "execution_count": 68,
   "metadata": {
    "id": "MEBJxU4PFUvI"
   },
   "outputs": [],
   "source": [
    "Housing = pd.get_dummies(Housing,  columns=categorical_cols, dtype= float)"
   ]
  },
  {
   "cell_type": "markdown",
   "metadata": {
    "id": "AkwzvdEEJxwV"
   },
   "source": [
    "## **Subpoint d**"
   ]
  },
  {
   "cell_type": "code",
   "execution_count": 75,
   "metadata": {
    "id": "2lRGLIPEJ06v"
   },
   "outputs": [],
   "source": [
    "Housing2 = h[non_categorical_cols]"
   ]
  },
  {
   "cell_type": "markdown",
   "metadata": {
    "id": "iycNXKGkVuuu"
   },
   "source": [
    "# **Point 2**"
   ]
  },
  {
   "cell_type": "markdown",
   "metadata": {
    "id": "xRR_r1pJWhkw"
   },
   "source": [
    "## **Subpoint a**"
   ]
  },
  {
   "cell_type": "markdown",
   "metadata": {
    "id": "CSHIVJ8FYkV0"
   },
   "source": [
    "Let's first set a seed so that we will be able to replicate our results after rerunning the calculations."
   ]
  },
  {
   "cell_type": "code",
   "execution_count": 80,
   "metadata": {
    "id": "AQjZSuJ3WQnw"
   },
   "outputs": [],
   "source": [
    "rd.seed(213742069)"
   ]
  },
  {
   "cell_type": "markdown",
   "metadata": {
    "id": "GneT23hWYwy0"
   },
   "source": [
    "Then let's use the function from sklearn to divide data frame into two."
   ]
  },
  {
   "cell_type": "code",
   "execution_count": 83,
   "metadata": {
    "id": "91qjuZFRVyhp"
   },
   "outputs": [
    {
     "data": {
      "text/html": [
       "<div>\n",
       "<style scoped>\n",
       "    .dataframe tbody tr th:only-of-type {\n",
       "        vertical-align: middle;\n",
       "    }\n",
       "\n",
       "    .dataframe tbody tr th {\n",
       "        vertical-align: top;\n",
       "    }\n",
       "\n",
       "    .dataframe thead th {\n",
       "        text-align: right;\n",
       "    }\n",
       "</style>\n",
       "<table border=\"1\" class=\"dataframe\">\n",
       "  <thead>\n",
       "    <tr style=\"text-align: right;\">\n",
       "      <th></th>\n",
       "      <th>Id</th>\n",
       "      <th>MSSubClass</th>\n",
       "      <th>LotFrontage</th>\n",
       "      <th>LotArea</th>\n",
       "      <th>OverallQual</th>\n",
       "      <th>OverallCond</th>\n",
       "      <th>YearBuilt</th>\n",
       "      <th>YearRemodAdd</th>\n",
       "      <th>MasVnrArea</th>\n",
       "      <th>BsmtFinSF1</th>\n",
       "      <th>...</th>\n",
       "      <th>OpenPorchSF</th>\n",
       "      <th>EnclosedPorch</th>\n",
       "      <th>3SsnPorch</th>\n",
       "      <th>ScreenPorch</th>\n",
       "      <th>PoolArea</th>\n",
       "      <th>MiscVal</th>\n",
       "      <th>MoSold</th>\n",
       "      <th>YrSold</th>\n",
       "      <th>SalePrice</th>\n",
       "      <th>SalePriceTrans</th>\n",
       "    </tr>\n",
       "  </thead>\n",
       "  <tbody>\n",
       "    <tr>\n",
       "      <th>245</th>\n",
       "      <td>246</td>\n",
       "      <td>20</td>\n",
       "      <td>80.000000</td>\n",
       "      <td>10400</td>\n",
       "      <td>7</td>\n",
       "      <td>5</td>\n",
       "      <td>1988</td>\n",
       "      <td>1988</td>\n",
       "      <td>102.0</td>\n",
       "      <td>929</td>\n",
       "      <td>...</td>\n",
       "      <td>39</td>\n",
       "      <td>0</td>\n",
       "      <td>0</td>\n",
       "      <td>0</td>\n",
       "      <td>0</td>\n",
       "      <td>0</td>\n",
       "      <td>6</td>\n",
       "      <td>2006</td>\n",
       "      <td>241500</td>\n",
       "      <td>7.989560</td>\n",
       "    </tr>\n",
       "    <tr>\n",
       "      <th>347</th>\n",
       "      <td>348</td>\n",
       "      <td>20</td>\n",
       "      <td>70.049958</td>\n",
       "      <td>17600</td>\n",
       "      <td>6</td>\n",
       "      <td>5</td>\n",
       "      <td>1960</td>\n",
       "      <td>1960</td>\n",
       "      <td>30.0</td>\n",
       "      <td>1270</td>\n",
       "      <td>...</td>\n",
       "      <td>40</td>\n",
       "      <td>0</td>\n",
       "      <td>0</td>\n",
       "      <td>0</td>\n",
       "      <td>0</td>\n",
       "      <td>0</td>\n",
       "      <td>12</td>\n",
       "      <td>2009</td>\n",
       "      <td>157500</td>\n",
       "      <td>7.822080</td>\n",
       "    </tr>\n",
       "    <tr>\n",
       "      <th>1337</th>\n",
       "      <td>1338</td>\n",
       "      <td>30</td>\n",
       "      <td>153.000000</td>\n",
       "      <td>4118</td>\n",
       "      <td>4</td>\n",
       "      <td>4</td>\n",
       "      <td>1941</td>\n",
       "      <td>1950</td>\n",
       "      <td>0.0</td>\n",
       "      <td>0</td>\n",
       "      <td>...</td>\n",
       "      <td>20</td>\n",
       "      <td>0</td>\n",
       "      <td>0</td>\n",
       "      <td>0</td>\n",
       "      <td>0</td>\n",
       "      <td>0</td>\n",
       "      <td>3</td>\n",
       "      <td>2006</td>\n",
       "      <td>52500</td>\n",
       "      <td>7.365487</td>\n",
       "    </tr>\n",
       "    <tr>\n",
       "      <th>1277</th>\n",
       "      <td>1278</td>\n",
       "      <td>80</td>\n",
       "      <td>70.049958</td>\n",
       "      <td>17871</td>\n",
       "      <td>6</td>\n",
       "      <td>5</td>\n",
       "      <td>1967</td>\n",
       "      <td>1976</td>\n",
       "      <td>359.0</td>\n",
       "      <td>528</td>\n",
       "      <td>...</td>\n",
       "      <td>0</td>\n",
       "      <td>0</td>\n",
       "      <td>0</td>\n",
       "      <td>0</td>\n",
       "      <td>0</td>\n",
       "      <td>0</td>\n",
       "      <td>6</td>\n",
       "      <td>2009</td>\n",
       "      <td>197900</td>\n",
       "      <td>7.912231</td>\n",
       "    </tr>\n",
       "    <tr>\n",
       "      <th>606</th>\n",
       "      <td>607</td>\n",
       "      <td>20</td>\n",
       "      <td>82.000000</td>\n",
       "      <td>12464</td>\n",
       "      <td>5</td>\n",
       "      <td>5</td>\n",
       "      <td>1996</td>\n",
       "      <td>1996</td>\n",
       "      <td>0.0</td>\n",
       "      <td>732</td>\n",
       "      <td>...</td>\n",
       "      <td>0</td>\n",
       "      <td>0</td>\n",
       "      <td>0</td>\n",
       "      <td>0</td>\n",
       "      <td>0</td>\n",
       "      <td>0</td>\n",
       "      <td>11</td>\n",
       "      <td>2009</td>\n",
       "      <td>152000</td>\n",
       "      <td>7.807903</td>\n",
       "    </tr>\n",
       "  </tbody>\n",
       "</table>\n",
       "<p>5 rows × 39 columns</p>\n",
       "</div>"
      ],
      "text/plain": [
       "        Id  MSSubClass  LotFrontage  LotArea  OverallQual  OverallCond  \\\n",
       "245    246          20    80.000000    10400            7            5   \n",
       "347    348          20    70.049958    17600            6            5   \n",
       "1337  1338          30   153.000000     4118            4            4   \n",
       "1277  1278          80    70.049958    17871            6            5   \n",
       "606    607          20    82.000000    12464            5            5   \n",
       "\n",
       "      YearBuilt  YearRemodAdd  MasVnrArea  BsmtFinSF1  ...  OpenPorchSF  \\\n",
       "245        1988          1988       102.0         929  ...           39   \n",
       "347        1960          1960        30.0        1270  ...           40   \n",
       "1337       1941          1950         0.0           0  ...           20   \n",
       "1277       1967          1976       359.0         528  ...            0   \n",
       "606        1996          1996         0.0         732  ...            0   \n",
       "\n",
       "      EnclosedPorch  3SsnPorch  ScreenPorch  PoolArea  MiscVal  MoSold  \\\n",
       "245               0          0            0         0        0       6   \n",
       "347               0          0            0         0        0      12   \n",
       "1337              0          0            0         0        0       3   \n",
       "1277              0          0            0         0        0       6   \n",
       "606               0          0            0         0        0      11   \n",
       "\n",
       "      YrSold  SalePrice  SalePriceTrans  \n",
       "245     2006     241500        7.989560  \n",
       "347     2009     157500        7.822080  \n",
       "1337    2006      52500        7.365487  \n",
       "1277    2009     197900        7.912231  \n",
       "606     2009     152000        7.807903  \n",
       "\n",
       "[5 rows x 39 columns]"
      ]
     },
     "execution_count": 83,
     "metadata": {},
     "output_type": "execute_result"
    }
   ],
   "source": [
    "Housing_train, Housing_test = train_test_split(Housing2, test_size=0.3, random_state=213742069)"
   ]
  },
  {
   "cell_type": "markdown",
   "metadata": {
    "id": "IU7JY9TzWkmM"
   },
   "source": [
    "## **Subpoint b**"
   ]
  },
  {
   "cell_type": "markdown",
   "metadata": {
    "id": "pF9RkCbfZHaI"
   },
   "source": [
    "Now we want to train our model. For that we need to establish which variable is the target variable. That is the price of the property. Since we've already created a transformed variable that has a distribution closer to the gaussian distribution we will set it to be the target variables. All other variables (except for course for the non transformed price) will be used to explain it."
   ]
  },
  {
   "cell_type": "code",
   "execution_count": 98,
   "metadata": {
    "id": "31DZskzzWuY-"
   },
   "outputs": [],
   "source": [
    "X_train = Housing_train.drop(['SalePriceTrans','SalePrice',\"Id\"], axis=1)\n",
    "y_train = Housing_train['SalePriceTrans']\n",
    "X_test = Housing_test.drop(['SalePriceTrans','SalePrice',\"Id\"], axis=1)\n",
    "y_test = Housing_test['SalePriceTrans']"
   ]
  },
  {
   "cell_type": "markdown",
   "metadata": {
    "id": "c5sq__SPZ4-s"
   },
   "source": [
    "Now we build the linear regression model on the training data. Just after that we read the coefficients of obtained model."
   ]
  },
  {
   "cell_type": "code",
   "execution_count": 99,
   "metadata": {
    "colab": {
     "base_uri": "https://localhost:8080/"
    },
    "id": "i3GFcR2XXQXk",
    "outputId": "c2278b0f-84fd-4f36-909c-48518da69cfe"
   },
   "outputs": [
    {
     "name": "stdout",
     "output_type": "stream",
     "text": [
      "          Feature   Coefficient\n",
      "0      MSSubClass -2.461759e-04\n",
      "1     LotFrontage -1.232236e-04\n",
      "2         LotArea  7.608337e-07\n",
      "3     OverallQual  3.384551e-02\n",
      "4     OverallCond  2.037270e-02\n",
      "5       YearBuilt  1.350052e-03\n",
      "6    YearRemodAdd  4.720696e-04\n",
      "7      MasVnrArea  2.213048e-06\n",
      "8      BsmtFinSF1  3.088951e-06\n",
      "9      BsmtFinSF2  9.366521e-07\n",
      "10      BsmtUnfSF  8.789715e-06\n",
      "11    TotalBsmtSF  1.281532e-05\n",
      "12       1stFlrSF  2.423277e-05\n",
      "13       2ndFlrSF  1.782630e-05\n",
      "14   LowQualFinSF  7.803979e-06\n",
      "15      GrLivArea  4.986304e-05\n",
      "16   BsmtFullBath  3.238135e-02\n",
      "17   BsmtHalfBath  1.172674e-02\n",
      "18       FullBath  1.119888e-02\n",
      "19       HalfBath  3.654475e-03\n",
      "20   BedroomAbvGr  2.456193e-03\n",
      "21   KitchenAbvGr -1.256639e-02\n",
      "22   TotRmsAbvGrd  5.778655e-03\n",
      "23     Fireplaces  1.980411e-02\n",
      "24    GarageYrBlt -2.193673e-04\n",
      "25     GarageCars  2.885329e-02\n",
      "26     GarageArea -1.072163e-06\n",
      "27     WoodDeckSF  4.909548e-05\n",
      "28    OpenPorchSF -4.250110e-05\n",
      "29  EnclosedPorch  6.979373e-05\n",
      "30      3SsnPorch  1.318620e-04\n",
      "31    ScreenPorch  1.622237e-04\n",
      "32       PoolArea -1.319637e-04\n",
      "33        MiscVal -1.577859e-06\n",
      "34         MoSold  5.530574e-04\n",
      "35         YrSold -3.839726e-03\n"
     ]
    }
   ],
   "source": [
    "mod = LinearRegression()\n",
    "mod.fit(X_train, y_train)\n",
    "coef = pd.DataFrame({'Feature': X_train.columns, 'Coefficient': mod.coef_})\n",
    "print(coef)"
   ]
  },
  {
   "cell_type": "markdown",
   "metadata": {
    "id": "3r2o81q4aJl-"
   },
   "source": [
    "Now we want to establish the quality of the model we produced. For that we calculate MSE and R^2. To calculate these values we first need to see what are the predictions of our model. To evaluate both MSE and R^2 we use functions from sklearn package."
   ]
  },
  {
   "cell_type": "code",
   "execution_count": 101,
   "metadata": {
    "colab": {
     "base_uri": "https://localhost:8080/"
    },
    "id": "o5Wa9uBcX_8c",
    "outputId": "104d8099-e612-4b91-a7a9-ad21794b6707"
   },
   "outputs": [
    {
     "name": "stdout",
     "output_type": "stream",
     "text": [
      "In-sample MSE: 0.00, R2: 0.85\n",
      "Out-of-sample MSE: 0.00, R2: 0.88\n"
     ]
    }
   ],
   "source": [
    "y_pred_train = mod.predict(X_train)\n",
    "y_pred_test = mod.predict(X_test)\n",
    "mse_train = mean_squared_error(y_train, y_pred_train)\n",
    "mse_test = mean_squared_error(y_test, y_pred_test)\n",
    "r2_train = r2_score(y_train, y_pred_train)\n",
    "r2_test = r2_score(y_test, y_pred_test)\n",
    "\n",
    "print(f'In-sample MSE: {mse_train:.2f}, R2: {r2_train:.2f}')\n",
    "print(f'Out-of-sample MSE: {mse_test:.2f}, R2: {r2_test:.2f}')"
   ]
  },
  {
   "cell_type": "markdown",
   "metadata": {
    "id": "mPd9skemdU0t"
   },
   "source": [
    "## **Subpoint c**"
   ]
  },
  {
   "cell_type": "markdown",
   "metadata": {
    "id": "9-o7hN74dXbr"
   },
   "source": [
    "### **Subsubpoint 1**"
   ]
  },
  {
   "cell_type": "markdown",
   "metadata": {
    "id": "CgOySfEedboK"
   },
   "source": [
    "We now want to calculate vector **β** of the coefficients. For that we first need to create the matrix **A** representing the observations of independent variables and one row responsible for taking into consideration the intercept."
   ]
  },
  {
   "cell_type": "code",
   "execution_count": 102,
   "metadata": {
    "id": "VtF4nS2TeHcK"
   },
   "outputs": [],
   "source": [
    "A = np.c_[np.ones(X_train.shape[0]), X_train]"
   ]
  },
  {
   "cell_type": "markdown",
   "metadata": {
    "id": "wD2k32WeelJA"
   },
   "source": [
    "Now all is left is to save the dependent variable and use the formula."
   ]
  },
  {
   "cell_type": "code",
   "execution_count": 103,
   "metadata": {
    "id": "Zc0ekrCHetBy"
   },
   "outputs": [],
   "source": [
    "y = y_train\n",
    "beta = np.linalg.inv(A.T @ A) @ A.T @ y"
   ]
  },
  {
   "cell_type": "code",
   "execution_count": 106,
   "metadata": {
    "colab": {
     "base_uri": "https://localhost:8080/"
    },
    "id": "tc04ZsM3aR4y",
    "outputId": "02ad372f-92fa-485c-b44d-eeb0ebd21369"
   },
   "outputs": [
    {
     "data": {
      "text/plain": [
       "array([-2.56002144e+04, -5.51268368e-01, -6.43206843e+00,  4.25801140e-03,\n",
       "       -1.84695567e+02, -6.94095657e+01, -1.46123570e+00,  1.52104582e+01,\n",
       "        8.42014642e-02,  3.73752885e+12,  3.73752885e+12,  3.73752885e+12,\n",
       "       -3.73752885e+12, -1.52825633e-01, -1.59870620e-01, -2.33507280e-01,\n",
       "        2.76091210e-01,  3.23813521e-02,  1.17267415e-02,  1.11988806e-02,\n",
       "        3.65447499e-03,  2.45619316e-03, -1.25663946e-02,  5.77865450e-03,\n",
       "        1.98041071e-02, -2.19367294e-04,  2.88532874e-02, -1.07216324e-06,\n",
       "        4.90954819e-05, -4.25011043e-05,  6.97937304e-05,  1.31862010e-04,\n",
       "        1.62223679e-04, -1.31963702e-04, -1.57785910e-06,  5.53057449e-04,\n",
       "       -3.83972578e-03])"
      ]
     },
     "execution_count": 106,
     "metadata": {},
     "output_type": "execute_result"
    }
   ],
   "source": [
    "beta"
   ]
  }
 ],
 "metadata": {
  "colab": {
   "provenance": []
  },
  "kernelspec": {
   "display_name": "Python 3 (ipykernel)",
   "language": "python",
   "name": "python3"
  },
  "language_info": {
   "codemirror_mode": {
    "name": "ipython",
    "version": 3
   },
   "file_extension": ".py",
   "mimetype": "text/x-python",
   "name": "python",
   "nbconvert_exporter": "python",
   "pygments_lexer": "ipython3",
   "version": "3.12.4"
  }
 },
 "nbformat": 4,
 "nbformat_minor": 4
}
